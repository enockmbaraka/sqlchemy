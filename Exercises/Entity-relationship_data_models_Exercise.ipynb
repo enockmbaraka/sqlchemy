{
 "cells": [
  {
   "cell_type": "markdown",
   "id": "bf17eebd",
   "metadata": {},
   "source": [
    "<div align=\"right\" style=\" font-size: 80%; text-align: center; margin: 0 auto\">\n",
    "<img src=\"https://raw.githubusercontent.com/Explore-AI/Pictures/master/ExploreAI_logos/Logo blue_dark.png\"  style=\"width:25px\" align=\"right\";/>\n",
    "</div>"
   ]
  },
  {
   "cell_type": "markdown",
   "id": "f662d169",
   "metadata": {},
   "source": [
    "# Entity-relationship data models\n",
    "© ExploreAI Academy"
   ]
  },
  {
   "cell_type": "markdown",
   "id": "26af890c",
   "metadata": {},
   "source": [
    "In this exercise, we will  examine an  ERD that accurately represents the entities, attributes, and relationships within a database. This includes the ability to identify primary and foreign keys, represent different types of relationships, and generally understand the structure of the database."
   ]
  },
  {
   "attachments": {},
   "cell_type": "markdown",
   "id": "2d230d14",
   "metadata": {
    "tags": []
   },
   "source": [
    "## Learning objectives\n",
    "\n",
    "In this exercise, we will learn to:\n",
    "- Identify the primary key(s) for each table in an ERD.\n",
    "- Differentiate between types of database relationships.\n",
    "- Understand the concept of cardinality.\n",
    "- Differentiate between entities and relationships."
   ]
  },
  {
   "attachments": {},
   "cell_type": "markdown",
   "id": "314e4b25",
   "metadata": {},
   "source": [
    "Here is a view of all of our tables in the database:\n",
    "\n",
    "<div align=\"center\" style=\" font-size: 80%; text-align: center; margin: 0 auto\">\n",
    "<img src=\"https://raw.githubusercontent.com/Explore-AI/Pictures/master/Northwind_ERD.png\"  style=\"width:70%\";/>\n",
    "<br>\n",
    "<br>\n",
    "    <em>Figure 1: Northwind database ERD</em>\n",
    "</div>"
   ]
  },
  {
   "attachments": {},
   "cell_type": "markdown",
   "id": "920e89d2",
   "metadata": {
    "tags": []
   },
   "source": [
    "## Overview\n",
    "Based on the Entity-Relationship Diagram (ERD) that represents the tables and their relationships in the Northwind database schema above, answer the following questions."
   ]
  },
  {
   "attachments": {},
   "cell_type": "markdown",
   "id": "86802726",
   "metadata": {},
   "source": [
    "### Exercise 1\n",
    "\n",
    "Identify and list the primary key(s) for each table in the ERD. Why do you think these specific columns were chosen as the primary keys?"
   ]
  },
  {
   "attachments": {},
   "cell_type": "markdown",
   "id": "91f3421f",
   "metadata": {},
   "source": [
    "The primary keys for the Northwind database tables can vary, but here are some examples: \n",
    " \n",
    "-  Customers : The primary key could be  CustomerID . This unique identifier can be used to distinguish each customer record. \n",
    " \n",
    "-  Orders : The primary key could be  OrderID . This unique identifier can be used to distinguish each order record. \n",
    " \n",
    "-  OrderDetails : The primary key could be a composite key consisting of  OrderID  and  ProductID . This means that the combination of these two columns uniquely identifies each record in the  OrderDetails  table. \n",
    " \n",
    "Primary keys are essential for maintaining data integrity and establishing relationships between tables. They ensure that each record in a table is uniquely identifiable. "
   ]
  },
  {
   "attachments": {},
   "cell_type": "markdown",
   "id": "f0fade51",
   "metadata": {},
   "source": [
    "### Exercise 2\n",
    "\n",
    "In the ERD, which tables represent entities, and which ones represent relationships? Justify your categorisation."
   ]
  },
  {
   "cell_type": "markdown",
   "id": "748f4263",
   "metadata": {},
   "source": [
    "Entities are the objects or concepts that we focus on within a system. Examples of entities in the context of a database could be  Customers ,  Employees , and  Products . These entities represent the main elements of interest in the system. \n",
    " \n",
    "Relationships, on the other hand, describe the associations or connections between entities. They are often represented by verb phrases and are typically established through junction tables, such as the  OrderDetails  table. This table defines the relationship between other entities, such as  Orders  and  Products , by linking them together. \n",
    " \n",
    "In summary, entities represent the main objects or concepts in the system, while relationships define the connections or associations between these entities. "
   ]
  },
  {
   "attachments": {},
   "cell_type": "markdown",
   "id": "f28aef00",
   "metadata": {},
   "source": [
    "### Exercise 3\n",
    "\n",
    "Discuss the concept of cardinality by explaining the cardinality of the relationship between the `Customers` and `Orders` tables in the `Northwind` database. In the context of the business rules of the Northwind company, why do you think this type of cardinality is appropriate?"
   ]
  },
  {
   "cell_type": "markdown",
   "id": "f4621a53",
   "metadata": {},
   "source": [
    "The cardinality between the  Customers  and  Orders  tables is typically one-to-many (1:M). In this type of relationship, one customer can be associated with multiple orders, but each order can only be linked to one customer. This reflects the real-world scenario where a customer can place multiple orders over time, but each order is tied to a single customer. \n",
    " \n",
    "Understanding the cardinality helps us define the nature of the relationship and determine how the tables are connected. In this case, the one-to-many cardinality between  Customers  and  Orders  allows for efficient tracking and management of customer orders. "
   ]
  },
  {
   "attachments": {},
   "cell_type": "markdown",
   "id": "d151cbb4",
   "metadata": {},
   "source": [
    "### Exercise 4\n",
    "\n",
    "Analyse the relationship between the `Orders` and `OrderDetails` tables. What does this relationship represent in terms of business processes in Northwind? Identify the foreign key(s) in these tables and explain how they are used to establish this relationship."
   ]
  },
  {
   "cell_type": "markdown",
   "id": "1e003247",
   "metadata": {},
   "source": [
    "The relationship between the  Orders  and  OrderDetails  tables is typically a one-to-many (1:M) relationship. This means that each order can have multiple order details representing different products, but each order detail is linked to only one order. To establish this relationship, the  OrderDetails  table would likely have a composite primary key consisting of  OrderID  and  ProductID . The  OrderID  would serve as a foreign key linking to the  Orders  table, while the  ProductID  would serve as a foreign key linking to the  Products  table."
   ]
  },
  {
   "attachments": {},
   "cell_type": "markdown",
   "id": "53d1d882",
   "metadata": {},
   "source": [
    "### Exercise 5\n",
    "\n",
    "Based on your ERD, can you identify any associative entities in the Northwind database? Explain why these tables are considered associative entities and discuss the relationships they facilitate."
   ]
  },
  {
   "cell_type": "markdown",
   "id": "9d22b61a",
   "metadata": {},
   "source": [
    "The  OrderDetails  table can be seen as an associative entity. It facilitates a many-to-many (M:M) relationship between the  Orders  and  Products  tables by storing the foreign keys from both tables. "
   ]
  },
  {
   "attachments": {},
   "cell_type": "markdown",
   "id": "8fb94790",
   "metadata": {},
   "source": [
    "### Exercise 6\n",
    "\n",
    "Suppose you were asked to add a new attribute to the `Products` entity that tracks the date the product was last ordered. Show how you would update the ERD to reflect this change and discuss any potential impacts on existing relationships."
   ]
  },
  {
   "cell_type": "markdown",
   "id": "a322c5f9",
   "metadata": {},
   "source": [
    "To include the  LastOrderedDate  attribute in the  Products  entity, you can add a new column to the  Products  table in the ERD. This modification should not affect existing relationships. However, it would require updating the processing of  OrderDetails  or  Orders  to set the  LastOrderedDate  whenever a product is ordered. "
   ]
  },
  {
   "attachments": {},
   "cell_type": "markdown",
   "id": "50adc2ba",
   "metadata": {},
   "source": [
    "### Exercise 7\n",
    "\n",
    "Northwind plans to introduce a new feature for \"discount coupons\". Each coupon can be used multiple times but has a maximum total use. A customer can use multiple coupons for a single order. Sketch how you would modify the existing ERD to accommodate this new feature. Be sure to specify entities, attributes, relationships, and cardinalities."
   ]
  },
  {
   "cell_type": "markdown",
   "id": "116a83a7",
   "metadata": {},
   "source": [
    "To accommodate the new feature of \"discount coupons\", you can introduce a new entity called  Coupons . This entity would have attributes such as  CouponID  (primary key),  MaxTotalUse ,  CurrentTotalUse , and  DiscountAmount .  \n",
    " \n",
    "To handle the many-to-many (M:M) relationship between  Orders  and  Coupons , you can create a new associative entity called  OrderCoupons . The  OrderCoupons  entity would have attributes like  OrderID  and  CouponID  (composite primary key),  AppliedDiscountAmount , and any other necessary attributes. The  OrderID  attribute would serve as a foreign key linking to the  Orders  table, and the  CouponID  attribute would serve as a foreign key linking to the  Coupons  table.  \n",
    " \n",
    "This approach allows for the usage of multiple coupons for a single order. Each coupon can be used multiple times until it reaches its  MaxTotalUse  limit. "
   ]
  },
  {
   "attachments": {},
   "cell_type": "markdown",
   "id": "b3c88335",
   "metadata": {
    "tags": []
   },
   "source": [
    "## Solutions"
   ]
  },
  {
   "attachments": {},
   "cell_type": "markdown",
   "id": "a5084b12",
   "metadata": {
    "tags": []
   },
   "source": [
    "### Exercise 1\n",
    "\n",
    "The primary keys for the Northwind database tables will vary, but some examples could be:\n",
    "\n",
    "- `Customers`: `CustomerID` \n",
    "- `Orders`: `OrderID` \n",
    "- `OrderDetails`: `OrderID`, `ProductID` (composite key) \n",
    "\n",
    "The primary keys are usually unique identifiers that can be used to uniquely distinguish each record in a table. "
   ]
  },
  {
   "attachments": {},
   "cell_type": "markdown",
   "id": "294d8eef",
   "metadata": {},
   "source": [
    "### Exercise 2\n",
    "\n",
    "Entities are objects that we're interested in within the system. For example, `Customers`, `Employees`, and `Products` can be considered entities. \n",
    "\n",
    "Relationships are often represented by verb phrases and typically require junction tables (like `OrderDetails`), which define the relationship between other entities such as `Orders` and `Products`."
   ]
  },
  {
   "attachments": {},
   "cell_type": "markdown",
   "id": "eafe40b6",
   "metadata": {},
   "source": [
    "### Exercise 3\n",
    "\n",
    "The cardinality between the `Customers` and `Orders` tables is typically one-to-many (1:M). This means that one customer can place multiple orders, but each order can only be linked to one customer. This makes sense from a business perspective, as a customer may place multiple orders over time."
   ]
  },
  {
   "attachments": {},
   "cell_type": "markdown",
   "id": "b0e27793",
   "metadata": {},
   "source": [
    "### Exercise 4\n",
    "\n",
    "The relationship between the `Orders` and `OrderDetails` tables is one-to-many (1:M). Each order can have multiple order details (representing different products), but each order detail is linked to only one order. The `OrderDetails` table would likely have a composite primary key including `OrderID` and `ProductID`, where `OrderID` is a foreign key linking to the `Orders` table and `ProductID` is a foreign key linking to the `Products` table."
   ]
  },
  {
   "attachments": {},
   "cell_type": "markdown",
   "id": "b2cb2438",
   "metadata": {},
   "source": [
    "### Exercise 5\n",
    "\n",
    "The `OrderDetails` table can be considered an associative entity. This table enables a many-to-many (M:M) relationship between `Orders` and `Products` by storing the foreign keys from both tables."
   ]
  },
  {
   "attachments": {},
   "cell_type": "markdown",
   "id": "e9956efe",
   "metadata": {
    "tags": []
   },
   "source": [
    "### Exercise 6\n",
    "\n",
    "To add the `LastOrderedDate` attribute to the `Products` entity, you would simply add a new column to the `Products` table in the ERD. This change should not impact existing relationships but would require updating the `OrderDetails` or `Orders` processing to set the `LastOrderedDate` whenever a product is ordered."
   ]
  },
  {
   "attachments": {},
   "cell_type": "markdown",
   "id": "6bc168e8",
   "metadata": {},
   "source": [
    "### Exercise 7\n",
    "\n",
    "To accommodate the new feature of \"discount coupons\", a new `Coupons` entity could be added, with attributes such as `CouponID` (primary key), `MaxTotalUse`, `CurrentTotalUse`, and `DiscountAmount`. \n",
    "\n",
    "A new `OrderCoupons` associative entity might also be added to handle the many-to-many (M:M) relationship between `Orders` and `Coupons`. The `OrderCoupons` entity could have attributes like `OrderID` and `CouponID` (composite primary key), `AppliedDiscountAmount`, and others as needed. `OrderID` is a foreign key linking to the `Orders` table, and `CouponID` is a foreign key linking to the `Coupons` table. This approach would allow multiple coupons to be used for a single order, and each coupon could be used multiple times until it reaches its `MaxTotalUse`."
   ]
  },
  {
   "cell_type": "markdown",
   "id": "26fd094b-0fee-46f1-a4b8-73766813c42b",
   "metadata": {
    "tags": []
   },
   "source": [
    "#  \n",
    "\n",
    "<div align=\"center\" style=\" font-size: 80%; text-align: center; margin: 0 auto\">\n",
    "<img src=\"https://raw.githubusercontent.com/Explore-AI/Pictures/master/ExploreAI_logos/EAI_Blue_Dark.png\"  style=\"width:200px\";/>\n",
    "</div>"
   ]
  }
 ],
 "metadata": {
  "kernelspec": {
   "display_name": "Python 3 (ipykernel)",
   "language": "python",
   "name": "python3"
  },
  "language_info": {
   "codemirror_mode": {
    "name": "ipython",
    "version": 3
   },
   "file_extension": ".py",
   "mimetype": "text/x-python",
   "name": "python",
   "nbconvert_exporter": "python",
   "pygments_lexer": "ipython3",
   "version": "3.10.9"
  }
 },
 "nbformat": 4,
 "nbformat_minor": 5
}
